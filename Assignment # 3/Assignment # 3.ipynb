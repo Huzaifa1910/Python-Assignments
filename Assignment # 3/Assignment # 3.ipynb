{
 "cells": [
  {
   "cell_type": "code",
   "execution_count": 44,
   "id": "32313925",
   "metadata": {},
   "outputs": [
    {
     "name": "stdout",
     "output_type": "stream",
     "text": [
      " Twinkle, twinkle, little star,\n",
      "     How I wonder what you are!\n",
      "         Up above the world so high,\n",
      "         Like a diamond in the sky.\n",
      " Twinkle, twinkle, little star,\n",
      "     How I wonder what you are!\n"
     ]
    }
   ],
   "source": [
    "## Question 1\n",
    "a = [[\"Twinkle, twinkle, little star,\"],[\"How I wonder what you are!\"],[\"Up above the world so high,\"],[\"Like a diamond in the sky.\"],[\"Twinkle, twinkle, little star,\"],[\"How I wonder what you are!\"]]\n",
    "b = \"\"\n",
    "j = 0\n",
    "for i in range(len(a)):\n",
    "    \n",
    "    if(j > 2):\n",
    "        j -= 1\n",
    "        print(b*j,a[i][0])\n",
    "        b = \"\"\n",
    "        j = 0\n",
    "    else:\n",
    "        print(b*j,a[i][0])\n",
    "        b = \"    \"\n",
    "        j += 1"
   ]
  },
  {
   "cell_type": "code",
   "execution_count": 45,
   "id": "22baec64",
   "metadata": {},
   "outputs": [
    {
     "name": "stdout",
     "output_type": "stream",
     "text": [
      "Python Version is:  3.8.8\n"
     ]
    }
   ],
   "source": [
    "## Question 2\n",
    "from platform import python_version\n",
    "\n",
    "print(\"Python Version is: \",python_version())"
   ]
  },
  {
   "cell_type": "code",
   "execution_count": 46,
   "id": "5ea0bf24",
   "metadata": {},
   "outputs": [
    {
     "name": "stdout",
     "output_type": "stream",
     "text": [
      "2021-10-24 16:25:15.975651\n"
     ]
    }
   ],
   "source": [
    "## Question 3\n",
    "import datetime\n",
    "print(datetime.datetime.now())"
   ]
  },
  {
   "cell_type": "code",
   "execution_count": 47,
   "id": "2861180c",
   "metadata": {},
   "outputs": [
    {
     "name": "stdout",
     "output_type": "stream",
     "text": [
      "Enter radius of circle: 2\n",
      "Are of the given circle is: 12.566370614359172\n"
     ]
    }
   ],
   "source": [
    "## Question 4\n",
    "import math\n",
    "rad = int(input(\"Enter radius of circle: \"))\n",
    "area = math.pi*(rad**2)\n",
    "print(\"Are of the given circle is:\", area)"
   ]
  },
  {
   "cell_type": "code",
   "execution_count": 50,
   "id": "b8f26f0b",
   "metadata": {},
   "outputs": [
    {
     "name": "stdout",
     "output_type": "stream",
     "text": [
      "Enter first name: huzaifa\n",
      "Enter last name: ghori\n",
      "ghori huzaifa\n"
     ]
    }
   ],
   "source": [
    "## Question 5\n",
    "a = input(\"Enter first name: \")\n",
    "b = input(\"Enter last name: \")\n",
    "print(b,a)"
   ]
  },
  {
   "cell_type": "code",
   "execution_count": 51,
   "id": "bab5ab0d",
   "metadata": {},
   "outputs": [
    {
     "name": "stdout",
     "output_type": "stream",
     "text": [
      "Enter first Number: 2\n",
      "Enter Second Number: 3\n",
      "Sum is:  5\n"
     ]
    }
   ],
   "source": [
    "## Question 6\n",
    "a = int(input(\"Enter first Number: \"))\n",
    "b = int(input(\"Enter Second Number: \"))\n",
    "print(\"Sum is: \",a+b)"
   ]
  },
  {
   "cell_type": "code",
   "execution_count": 52,
   "id": "052f3ad3",
   "metadata": {},
   "outputs": [
    {
     "name": "stdout",
     "output_type": "stream",
     "text": [
      "Enter Marks of english: 78\n",
      "Enter Marks of Maths: 67\n",
      "Enter Marks of Urdu: 87\n",
      "Enter Marks of Physics: 67\n",
      "Enter Marks of Chemistry: 86\n",
      "----------------------------------\n",
      "Marks of English is:  78\n",
      "Marks of Mathematics is:  67\n",
      "Marks of Urdu is:  87\n",
      "Marks of Physics is:  67\n",
      "Marks of Chemistry is:  86\n",
      "Percentage is:  77.0 % Grade is:  A\n"
     ]
    }
   ],
   "source": [
    "## Question 7\n",
    "a = int(input(\"Enter Marks of english: \"))\n",
    "b = int(input(\"Enter Marks of Maths: \"))\n",
    "c = int(input(\"Enter Marks of Urdu: \"))\n",
    "d = int(input(\"Enter Marks of Physics: \"))\n",
    "e = int(input(\"Enter Marks of Chemistry: \"))\n",
    "percent = ((a + b + c + d + e)/500)*100\n",
    "if percent <= 100 and percent >= 80:\n",
    "    grade = \"A+\"\n",
    "elif percent <= 79 and percent >= 70:\n",
    "    grade = \"A\"\n",
    "elif percent <= 69 and percent >= 60:\n",
    "    grade = \"B\"\n",
    "elif percent <= 59 and percent >= 50:\n",
    "    grade = \"C\"\n",
    "elif percent>100:\n",
    "    print(\"Percentage is not valid\")\n",
    "else:\n",
    "    grade = \"failed\"\n",
    "print(\"----------------------------------\")\n",
    "print(\"Marks of English is: \", a)\n",
    "print(\"Marks of Mathematics is: \", b)\n",
    "print(\"Marks of Urdu is: \", c)\n",
    "print(\"Marks of Physics is: \", d)\n",
    "print(\"Marks of Chemistry is: \", e)\n",
    "print(\"Percentage is: \", percent,\"%\",\"Grade is: \", grade)"
   ]
  },
  {
   "cell_type": "markdown",
   "id": "6475c2f5",
   "metadata": {},
   "source": []
  },
  {
   "cell_type": "code",
   "execution_count": 30,
   "id": "a607bc52",
   "metadata": {},
   "outputs": [
    {
     "name": "stdout",
     "output_type": "stream",
     "text": [
      "Enter Number:7\n",
      "Number is odd\n"
     ]
    }
   ],
   "source": [
    "## Question 8\n",
    "a = int(input(\"Enter Number:\"))\n",
    "if(a%2 == 0):\n",
    "    print(\"Number is even\")\n",
    "else:\n",
    "    print(\"Number is odd\")"
   ]
  },
  {
   "cell_type": "code",
   "execution_count": 53,
   "id": "1bbd44f4",
   "metadata": {},
   "outputs": [
    {
     "name": "stdout",
     "output_type": "stream",
     "text": [
      "20\n"
     ]
    }
   ],
   "source": [
    "## Question 9\n",
    "lens = 0\n",
    "a = [1,2,3,4,5,6,7,8,9,0,1,2,3,4,5,6,7,8,9,0]\n",
    "for i in a:\n",
    "    lens += 1\n",
    "print(lens)"
   ]
  },
  {
   "cell_type": "code",
   "execution_count": 8,
   "id": "4da1e15d",
   "metadata": {},
   "outputs": [
    {
     "name": "stdout",
     "output_type": "stream",
     "text": [
      "15\n"
     ]
    }
   ],
   "source": [
    "## Question 10\n",
    "\n",
    "sumlist = 0\n",
    "listed = [1,2,3,4,5]\n",
    "for i in range(len(listed)):\n",
    "    sumlist += listed[i]\n",
    "print(sumlist)"
   ]
  },
  {
   "cell_type": "code",
   "execution_count": 15,
   "id": "209beff9",
   "metadata": {},
   "outputs": [
    {
     "name": "stdout",
     "output_type": "stream",
     "text": [
      "32\n"
     ]
    }
   ],
   "source": [
    "## Question 11\n",
    "\n",
    "larg = 0\n",
    "listed1 = [1,2,3,4,9,5,6,32,7,8,12]\n",
    "for i in range(len(listed1)):\n",
    "        if(listed1[i]>larg):\n",
    "            larg = listed1[i]\n",
    "print(larg)"
   ]
  },
  {
   "cell_type": "code",
   "execution_count": 16,
   "id": "f6c78880",
   "metadata": {},
   "outputs": [
    {
     "name": "stdout",
     "output_type": "stream",
     "text": [
      "1\n",
      "1\n",
      "2\n",
      "3\n"
     ]
    }
   ],
   "source": [
    "## Question 12\n",
    "\n",
    "a = [1, 1, 2, 3, 5, 8, 13, 21, 34, 55, 89]\n",
    "for i in range(len(a)):\n",
    "    if(a[i]<5):\n",
    "        print(a[i])"
   ]
  },
  {
   "cell_type": "code",
   "execution_count": null,
   "id": "5459e2c2",
   "metadata": {},
   "outputs": [],
   "source": []
  }
 ],
 "metadata": {
  "kernelspec": {
   "display_name": "Python 3",
   "language": "python",
   "name": "python3"
  },
  "language_info": {
   "codemirror_mode": {
    "name": "ipython",
    "version": 3
   },
   "file_extension": ".py",
   "mimetype": "text/x-python",
   "name": "python",
   "nbconvert_exporter": "python",
   "pygments_lexer": "ipython3",
   "version": "3.8.8"
  }
 },
 "nbformat": 4,
 "nbformat_minor": 5
}
